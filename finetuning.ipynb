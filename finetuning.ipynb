{
  "nbformat": 4,
  "nbformat_minor": 0,
  "metadata": {
    "colab": {
      "provenance": [],
      "authorship_tag": "ABX9TyP1QzZDuShyL9SryDMB3/+r",
      "include_colab_link": true
    },
    "kernelspec": {
      "name": "python3",
      "display_name": "Python 3"
    },
    "language_info": {
      "name": "python"
    }
  },
  "cells": [
    {
      "cell_type": "markdown",
      "metadata": {
        "id": "view-in-github",
        "colab_type": "text"
      },
      "source": [
        "<a href=\"https://colab.research.google.com/github/xAIdrian/MachineLearning/blob/develop/finetuning.ipynb\" target=\"_parent\"><img src=\"https://colab.research.google.com/assets/colab-badge.svg\" alt=\"Open In Colab\"/></a>"
      ]
    },
    {
      "cell_type": "code",
      "execution_count": null,
      "metadata": {
        "id": "us3H1G_r_24p"
      },
      "outputs": [],
      "source": [
        "!pip install openai\n",
        "!pip install pandas\n",
        "!pip install jsonlines"
      ]
    },
    {
      "cell_type": "code",
      "source": [
        "import pandas as pd\n",
        "import jsonlines\n",
        "import openai\n",
        "import gspread\n",
        "import time\n",
        "import os"
      ],
      "metadata": {
        "id": "CZ1Eyz9vIEiJ"
      },
      "execution_count": null,
      "outputs": []
    },
    {
      "cell_type": "code",
      "source": [
        "openai.api_key = ''\n",
        "training_filename = './output.jsonl'"
      ],
      "metadata": {
        "id": "WrUU33IuIgQt"
      },
      "execution_count": null,
      "outputs": []
    },
    {
      "cell_type": "code",
      "source": [
        "# Read the CSV file into a Pandas DataFrame\n",
        "df = pd.read_csv('Copy of 100 content - Sheet1.csv')\n",
        "\n",
        "# Iterate through each row of the DataFrame\n",
        "for index, row in df.iterrows():\n",
        "    # Assign the first 3 columns as string variables\n",
        "    system_message = str(row[0])\n",
        "    prompt_text = str(row[1])\n",
        "    ideal_generated_text = str(row[2])\n",
        "\n",
        "    # You can use col1, col2, and col3 as string variables in further processing\n",
        "    # print(f\"Row {index + 1}: {system}, {user}, {assistant}\")\n",
        "    # Format and save data to jsonl\n",
        "    data = {\n",
        "        \"messages\": [\n",
        "            {\"role\": \"system\", \"content\": system_message},\n",
        "            {\"role\": \"user\", \"content\": prompt_text},\n",
        "            {\"role\": \"assistant\", \"content\": ideal_generated_text}\n",
        "        ]\n",
        "    }\n",
        "    with jsonlines.open(training_filename, mode='a') as writer:\n",
        "        writer.write(data)\n"
      ],
      "metadata": {
        "id": "W6SUhfo166Jd"
      },
      "execution_count": null,
      "outputs": []
    },
    {
      "cell_type": "code",
      "source": [
        "training_response = openai.File.create(\n",
        "    file=open(training_filename, 'rb'), purpose='fine-tune'\n",
        ")\n",
        "training_file_id = training_response[\"id\"]\n",
        "\n",
        "validation_response = openai.File.create(\n",
        "    file=open(training_filename, 'rb'), purpose='fine-tune'\n",
        ")\n",
        "validation_file_id = validation_response[\"id\"]\n",
        "\n",
        "print(f\"Training file id: {training_file_id}\")\n",
        "print(f\"Validation file id: {validation_file_id}\")"
      ],
      "metadata": {
        "id": "A8Q2KIHXJDDf"
      },
      "execution_count": null,
      "outputs": []
    },
    {
      "cell_type": "code",
      "source": [
        "suffix_name = 'AdoBot'\n",
        "\n",
        "response = openai.FineTuningJob.create(\n",
        "    training_file=training_file_id,\n",
        "    validation_file=validation_file_id,\n",
        "    model=\"gpt-3.5-turbo\",\n",
        "    suffix=suffix_name\n",
        ")\n",
        "response"
      ],
      "metadata": {
        "id": "_1UNizAqJ7kA"
      },
      "execution_count": null,
      "outputs": []
    },
    {
      "cell_type": "code",
      "source": [
        "job_id = response['id']\n",
        "response = openai.FineTuningJob.retrieve(job_id)\n",
        "response"
      ],
      "metadata": {
        "id": "KmOVF2OrtFAE"
      },
      "execution_count": null,
      "outputs": []
    },
    {
      "cell_type": "code",
      "source": [
        "response = openai.FineTuningJob.list_events(id=job_id, limit=50)\n",
        "events = response['data']\n",
        "events.reverse()\n",
        "\n",
        "for event in events:\n",
        "  print(event['message'])"
      ],
      "metadata": {
        "id": "JKtJE-1utcjp"
      },
      "execution_count": null,
      "outputs": []
    },
    {
      "cell_type": "code",
      "source": [
        "response = openai.FineTuningJob.retrieve(job_id)\n",
        "fine_tuned_model_id = response['fine_tuned_model']\n",
        "response"
      ],
      "metadata": {
        "id": "qGICO9T1t2Cv"
      },
      "execution_count": null,
      "outputs": []
    },
    {
      "cell_type": "code",
      "source": [
        "response = openai.ChatCompletion.create(\n",
        "    model=\"<FINE TUNING JOB ID>\",\n",
        "    messages=arr,\n",
        "    temperature=0.7,\n",
        "    max_tokens=256,\n",
        "    top_p=1,\n",
        "    frequency_penalty=0,\n",
        "    presence_penalty=0\n",
        ")\n",
        "completion = response['choices'][0]['message']['content']\n",
        "completion"
      ],
      "metadata": {
        "id": "X5AugmRTvU_E"
      },
      "execution_count": null,
      "outputs": []
    },
    {
      "cell_type": "code",
      "source": [],
      "metadata": {
        "id": "SmNKlAkRwKQ7"
      },
      "execution_count": null,
      "outputs": []
    }
  ]
}